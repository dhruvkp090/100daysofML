{
  "nbformat": 4,
  "nbformat_minor": 0,
  "metadata": {
    "colab": {
      "name": "titanic",
      "version": "0.3.2",
      "provenance": [],
      "collapsed_sections": []
    },
    "kernelspec": {
      "name": "python3",
      "display_name": "Python 3"
    }
  },
  "cells": [
    {
      "cell_type": "code",
      "metadata": {
        "id": "4ywmI_p-Mc2V",
        "colab_type": "code",
        "colab": {}
      },
      "source": [
        "import pandas as pd"
      ],
      "execution_count": 0,
      "outputs": []
    },
    {
      "cell_type": "code",
      "metadata": {
        "id": "tm46MJ57On2U",
        "colab_type": "code",
        "colab": {}
      },
      "source": [
        "from sklearn.linear_model import LogisticRegression as lr\n",
        "from sklearn.metrics import mean_absolute_error as mae\n",
        "from sklearn.model_selection import train_test_split as tts"
      ],
      "execution_count": 0,
      "outputs": []
    },
    {
      "cell_type": "code",
      "metadata": {
        "id": "8f95TpmWWY0V",
        "colab_type": "code",
        "colab": {}
      },
      "source": [
        "def impute_age(cols):\n",
        "    Age = cols[0]\n",
        "    Pclass = cols[1]\n",
        "    if pd.isnull(Age):\n",
        "        if Pclass == 1:\n",
        "            return 37\n",
        "        elif Pclass == 2:\n",
        "            return 29\n",
        "        else:\n",
        "            return 24\n",
        "    else:\n",
        "        return Age\n"
      ],
      "execution_count": 0,
      "outputs": []
    },
    {
      "cell_type": "code",
      "metadata": {
        "id": "gJncffbpc2oy",
        "colab_type": "code",
        "colab": {}
      },
      "source": [
        "def impute_fare(cols):\n",
        "    fare = cols[0]\n",
        "    if pd.isnull(fare):\n",
        "        return 50\n",
        "    else:\n",
        "        return fare"
      ],
      "execution_count": 0,
      "outputs": []
    },
    {
      "cell_type": "code",
      "metadata": {
        "id": "Bzs6e7ttMnFR",
        "colab_type": "code",
        "colab": {}
      },
      "source": [
        "train = pd.read_csv('train.csv')\n",
        "test = pd.read_csv('test.csv')"
      ],
      "execution_count": 0,
      "outputs": []
    },
    {
      "cell_type": "code",
      "metadata": {
        "id": "pNb31bbea16w",
        "colab_type": "code",
        "colab": {}
      },
      "source": [
        "train.drop('Cabin',axis=1,inplace=True)\n",
        "sex = pd.get_dummies(train['Sex'],drop_first=True)\n",
        "embark = pd.get_dummies(train['Embarked'],drop_first=True)\n",
        "train.drop(['Sex','Embarked','Name','Ticket'],axis=1,inplace=True)\n",
        "train = pd.concat([train,sex,embark],axis=1)\n",
        "train['Age'] = train[['Age','Pclass']].apply(impute_age,axis=1)"
      ],
      "execution_count": 0,
      "outputs": []
    },
    {
      "cell_type": "code",
      "metadata": {
        "id": "p1BHRppBa6WL",
        "colab_type": "code",
        "colab": {}
      },
      "source": [
        "test.drop('Cabin',axis=1,inplace=True)\n",
        "sex = pd.get_dummies(test['Sex'],drop_first=True)\n",
        "embark = pd.get_dummies(test['Embarked'],drop_first=True)\n",
        "test.drop(['Sex','Embarked','Name','Ticket'],axis=1,inplace=True)\n",
        "test = pd.concat([test,sex,embark],axis=1)\n",
        "test['Age'] = test[['Age','Pclass']].apply(impute_age,axis=1)\n",
        "test['Fare'] = test[['Fare']].apply(impute_fare,axis=1)"
      ],
      "execution_count": 0,
      "outputs": []
    },
    {
      "cell_type": "code",
      "metadata": {
        "id": "xVNs8MiDMzjo",
        "colab_type": "code",
        "colab": {
          "base_uri": "https://localhost:8080/",
          "height": 68
        },
        "outputId": "375f1f85-2224-44f5-bbc5-b698555d1d56"
      },
      "source": [
        "X = train\n",
        "y = train['Survived']\n",
        "X.drop('Survived',axis=1,inplace=True)"
      ],
      "execution_count": 136,
      "outputs": [
        {
          "output_type": "stream",
          "text": [
            "Index(['PassengerId', 'Survived', 'Pclass', 'Age', 'SibSp', 'Parch', 'Fare',\n",
            "       'male', 'Q', 'S'],\n",
            "      dtype='object')\n"
          ],
          "name": "stdout"
        }
      ]
    },
    {
      "cell_type": "code",
      "metadata": {
        "id": "xcPF2rDjO4pu",
        "colab_type": "code",
        "colab": {
          "base_uri": "https://localhost:8080/",
          "height": 71
        },
        "outputId": "0dd3038d-7085-46ca-bddd-c9bdd23f4d21"
      },
      "source": [
        "model = lr(random_state = 0)\n",
        "model.fit(X, y)\n",
        "pred = model.predict(test)"
      ],
      "execution_count": 137,
      "outputs": [
        {
          "output_type": "stream",
          "text": [
            "/usr/local/lib/python3.6/dist-packages/sklearn/linear_model/logistic.py:432: FutureWarning: Default solver will be changed to 'lbfgs' in 0.22. Specify a solver to silence this warning.\n",
            "  FutureWarning)\n"
          ],
          "name": "stderr"
        }
      ]
    },
    {
      "cell_type": "code",
      "metadata": {
        "id": "IHlsMpd3XOj7",
        "colab_type": "code",
        "colab": {}
      },
      "source": [
        "output = pd.DataFrame({'PassengerId': test.PassengerId,\n",
        "                       'Survived': pred})\n",
        "output.to_csv('submission1.csv', index=False)"
      ],
      "execution_count": 0,
      "outputs": []
    }
  ]
}
